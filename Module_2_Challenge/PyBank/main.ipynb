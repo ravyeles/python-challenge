{
 "cells": [
  {
   "cell_type": "markdown",
   "id": "951de0ac",
   "metadata": {},
   "source": [
    "In this assignment, you will create a Python script that analyzes the financial records of your company.  Inside your starter code, you will find a financial dataset in the budget_data.csv file. This dataset is composed of two columns, Date and Profit/Losses. (Thankfully, your company has rather lax standards for accounting, so the records are simple.)\n",
    "\n",
    "Your task is to create a Python script that analyzes the records to calculate each of the following:\n",
    "\n",
    "The total number of months included in the dataset\n",
    "\n",
    "The net total amount of Profit/Losses over the entire period\n",
    "\n",
    "The average of the changes in Profit/Losses over the entire period\n",
    "\n",
    "The greatest increase in profits (date and amount) over the entire period\n",
    "\n",
    "The greatest decrease in losses (date and amount) over the entire period"
   ]
  },
  {
   "cell_type": "code",
   "execution_count": 2,
   "id": "99eac672",
   "metadata": {},
   "outputs": [],
   "source": [
    "import os\n",
    "import csv\n",
    "import datetime\n"
   ]
  },
  {
   "cell_type": "code",
   "execution_count": 7,
   "id": "ac3c5a1b",
   "metadata": {},
   "outputs": [
    {
     "name": "stdout",
     "output_type": "stream",
     "text": [
      "Jan-2010 867884\n"
     ]
    },
    {
     "ename": "TypeError",
     "evalue": "'_csv.reader' object does not support item assignment",
     "output_type": "error",
     "traceback": [
      "\u001b[1;31m---------------------------------------------------------------------------\u001b[0m",
      "\u001b[1;31mTypeError\u001b[0m                                 Traceback (most recent call last)",
      "Cell \u001b[1;32mIn[7], line 13\u001b[0m\n\u001b[0;32m     11\u001b[0m         date \u001b[38;5;241m=\u001b[39m row[\u001b[38;5;241m0\u001b[39m]\n\u001b[0;32m     12\u001b[0m         \u001b[38;5;28mprint\u001b[39m(date, profit_loss)   \n\u001b[1;32m---> 13\u001b[0m         budget_data[date] \u001b[38;5;241m=\u001b[39m profit_loss\n\u001b[0;32m     14\u001b[0m \u001b[38;5;28mprint\u001b[39m(budget_data)\n",
      "\u001b[1;31mTypeError\u001b[0m: '_csv.reader' object does not support item assignment"
     ]
    }
   ],
   "source": [
    "#Read budget data into list\n",
    "budget_data_file = 'budget_data.csv'\n",
    "date = ''\n",
    "profit_loss = 0\n",
    "budget_data = {}   \n",
    "with open(budget_data_file, newline='') as csvfile:\n",
    "    budget_data = csv.reader(csvfile, delimiter=',')\n",
    "    next(budget_data)\n",
    "    for row in budget_data:\n",
    "        profit_loss += int(row[1])\n",
    "        date = row[0]\n",
    "        print(date, profit_loss)   \n",
    "        budget_data[date] = profit_loss\n",
    "print(budget_data)\n",
    "#budget_data_dict = budget_data.to_dict('list')"
   ]
  },
  {
   "cell_type": "code",
   "execution_count": 9,
   "id": "e423eb58",
   "metadata": {},
   "outputs": [
    {
     "name": "stdout",
     "output_type": "stream",
     "text": [
      "Total Months: 86\n"
     ]
    }
   ],
   "source": [
    "# Caclulate total number of months included in dataset\n",
    "total_months = len(budget_data_list)\n",
    "print(f\"Total Months: {total_months}\")"
   ]
  },
  {
   "cell_type": "code",
   "execution_count": 10,
   "id": "f31a3dc3",
   "metadata": {},
   "outputs": [
    {
     "name": "stdout",
     "output_type": "stream",
     "text": [
      "Total: $38,382,578.00\n"
     ]
    }
   ],
   "source": [
    "#Calculate total net amount of \"Profit/Losses\" over entire period\n",
    "total_net = sum(int(row[1]) for row in budget_data_list)\n",
    "print(f\"Total: ${total_net:,.2f}\")"
   ]
  },
  {
   "cell_type": "code",
   "execution_count": 5,
   "id": "1d1984f4",
   "metadata": {},
   "outputs": [
    {
     "name": "stdout",
     "output_type": "stream",
     "text": [
      "Average Change: $-2,315.12\n"
     ]
    }
   ],
   "source": [
    "#Create new column to track change in profit   \n",
    "budget_data[2] = budget_data['Profit/Losses'].diff()\n",
    "average_change = budget_data['Change'].mean()\n",
    "print(f\"Average Change: ${average_change:,.2f}\")"
   ]
  },
  {
   "cell_type": "code",
   "execution_count": 6,
   "id": "64b97bc0",
   "metadata": {},
   "outputs": [
    {
     "name": "stdout",
     "output_type": "stream",
     "text": [
      "Greatest Increase in Profits: Feb-2012 ($1,926,159.00)\n"
     ]
    }
   ],
   "source": [
    "#Greatest increase in profits (date and amount) over entire period\n",
    "greatest_increase = budget_data['Change'].idxmax()\n",
    "max_increase_date = budget_data['Date'][greatest_increase]\n",
    "max_increase = budget_data['Change'][greatest_increase]\n",
    "print(f\"Greatest Increase in Profits: {max_increase_date} (${max_increase:,.2f})\")"
   ]
  },
  {
   "cell_type": "code",
   "execution_count": 7,
   "id": "0bc98844",
   "metadata": {},
   "outputs": [
    {
     "name": "stdout",
     "output_type": "stream",
     "text": [
      "Greatest Increase in Profits: Feb-2012 ($-2,196,167.00)\n"
     ]
    }
   ],
   "source": [
    "#Greatest decrease in profits (date and amount) over entire period\n",
    "greatest_decrease = budget_data['Change'].idxmin()\n",
    "min_increase_date = budget_data['Date'][greatest_decrease]\n",
    "min_increase = budget_data['Change'][greatest_decrease]\n",
    "print(f\"Greatest Increase in Profits: {max_increase_date} (${min_increase:,.2f})\")"
   ]
  },
  {
   "cell_type": "code",
   "execution_count": 9,
   "id": "4fee0812",
   "metadata": {},
   "outputs": [],
   "source": [
    "#create output string to write to a file\n",
    "\n",
    "output_string = f\"Financial Analysis\\n------------------------------------\\nTotal Months: {total_months}\\nTotal: ${total_net:,.2f}\\nAverage Change: ${average_change:,.2f}\\nGreatest Increase in Profits: {max_increase_date} (${max_increase:,.2f})\\nGreatest Increase in Profits: {max_increase_date} (${min_increase:,.2f})\"   \n",
    "with open('Financial_Analysis_Output.txt', 'w') as file: file.write(output_string)\n"
   ]
  }
 ],
 "metadata": {
  "kernelspec": {
   "display_name": "Python 3 (ipykernel)",
   "language": "python",
   "name": "python3"
  },
  "language_info": {
   "codemirror_mode": {
    "name": "ipython",
    "version": 3
   },
   "file_extension": ".py",
   "mimetype": "text/x-python",
   "name": "python",
   "nbconvert_exporter": "python",
   "pygments_lexer": "ipython3",
   "version": "3.11.5"
  }
 },
 "nbformat": 4,
 "nbformat_minor": 5
}
